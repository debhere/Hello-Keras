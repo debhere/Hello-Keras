{
  "nbformat": 4,
  "nbformat_minor": 0,
  "metadata": {
    "colab": {
      "provenance": [],
      "gpuType": "T4"
    },
    "kernelspec": {
      "name": "python3",
      "display_name": "Python 3"
    },
    "language_info": {
      "name": "python"
    },
    "accelerator": "GPU"
  },
  "cells": [
    {
      "cell_type": "code",
      "execution_count": 1,
      "metadata": {
        "id": "E9acCKf5svHE"
      },
      "outputs": [],
      "source": [
        "from tensorflow.keras.layers import Dense\n",
        "from tensorflow.keras.layers import Input\n",
        "from tensorflow.keras.layers import Concatenate\n",
        "from tensorflow.keras import Model"
      ]
    },
    {
      "cell_type": "code",
      "source": [
        "from sklearn.datasets import fetch_california_housing\n",
        "from sklearn.preprocessing import StandardScaler\n",
        "from sklearn.model_selection import train_test_split"
      ],
      "metadata": {
        "id": "bvZr25DvtzDs"
      },
      "execution_count": 2,
      "outputs": []
    },
    {
      "cell_type": "code",
      "source": [
        "from tensorflow.keras.utils import normalize"
      ],
      "metadata": {
        "id": "UIq2Q8KLmnHR"
      },
      "execution_count": 6,
      "outputs": []
    },
    {
      "cell_type": "code",
      "source": [
        "import matplotlib.pyplot as plt\n",
        "import numpy as np"
      ],
      "metadata": {
        "id": "n_Vu0iw7tzQ9"
      },
      "execution_count": 3,
      "outputs": []
    },
    {
      "cell_type": "code",
      "source": [
        "housing = fetch_california_housing()\n",
        "\n",
        "X_train, X_test, y_train, y_test = train_test_split(housing.data, housing.target)\n",
        "\n",
        "X_train.shape, X_test.shape, y_train.shape, y_test.shape"
      ],
      "metadata": {
        "colab": {
          "base_uri": "https://localhost:8080/"
        },
        "id": "iQ60exVDtzSj",
        "outputId": "dcd0a6b5-a6fe-41a2-aa4d-29e1aeac14b2"
      },
      "execution_count": 4,
      "outputs": [
        {
          "output_type": "execute_result",
          "data": {
            "text/plain": [
              "((15480, 8), (5160, 8), (15480,), (5160,))"
            ]
          },
          "metadata": {},
          "execution_count": 4
        }
      ]
    },
    {
      "cell_type": "code",
      "source": [
        "X_train = normalize(X_train, axis=1)\n",
        "X_test = normalize(X_test, axis=1)"
      ],
      "metadata": {
        "id": "Az6LoJqim09C"
      },
      "execution_count": 7,
      "outputs": []
    },
    {
      "cell_type": "code",
      "source": [
        "input_ = Input(shape=X_train.shape[1:])\n",
        "hidden1 = Dense(30, activation='relu')(input_)\n",
        "hiden2 = Dense(30, activation='relu')(hidden1)\n",
        "concat = Concatenate()([input_, hidden1])\n",
        "output = Dense(1)(concat)\n",
        "\n",
        "model = Model(inputs=[input_], outputs=[output])"
      ],
      "metadata": {
        "id": "Iec6VKB8l9EJ"
      },
      "execution_count": 8,
      "outputs": []
    },
    {
      "cell_type": "code",
      "source": [
        "model.compile(loss='mse', optimizer='adam', metrics=['mse'])"
      ],
      "metadata": {
        "id": "gB_cK7pZl9Fm"
      },
      "execution_count": 9,
      "outputs": []
    },
    {
      "cell_type": "code",
      "source": [
        "history = model.fit(X_train, y_train,\n",
        "                    validation_split=0.2,\n",
        "                    epochs=30, batch_size=40, verbose=1)"
      ],
      "metadata": {
        "colab": {
          "base_uri": "https://localhost:8080/"
        },
        "id": "2CcS_lh6l9Ju",
        "outputId": "ee2128cf-25ca-43e0-bb9f-69e9d21d00fe"
      },
      "execution_count": 11,
      "outputs": [
        {
          "output_type": "stream",
          "name": "stdout",
          "text": [
            "Epoch 1/30\n",
            "310/310 [==============================] - 7s 4ms/step - loss: 2.1274 - mse: 2.1274 - val_loss: 1.3776 - val_mse: 1.3776\n",
            "Epoch 2/30\n",
            "310/310 [==============================] - 1s 3ms/step - loss: 1.3189 - mse: 1.3189 - val_loss: 1.3624 - val_mse: 1.3624\n",
            "Epoch 3/30\n",
            "310/310 [==============================] - 1s 3ms/step - loss: 1.3079 - mse: 1.3079 - val_loss: 1.3531 - val_mse: 1.3531\n",
            "Epoch 4/30\n",
            "310/310 [==============================] - 1s 4ms/step - loss: 1.3005 - mse: 1.3005 - val_loss: 1.3442 - val_mse: 1.3442\n",
            "Epoch 5/30\n",
            "310/310 [==============================] - 2s 5ms/step - loss: 1.2933 - mse: 1.2933 - val_loss: 1.3366 - val_mse: 1.3366\n",
            "Epoch 6/30\n",
            "310/310 [==============================] - 1s 4ms/step - loss: 1.2850 - mse: 1.2850 - val_loss: 1.3270 - val_mse: 1.3270\n",
            "Epoch 7/30\n",
            "310/310 [==============================] - 1s 3ms/step - loss: 1.2763 - mse: 1.2763 - val_loss: 1.3236 - val_mse: 1.3236\n",
            "Epoch 8/30\n",
            "310/310 [==============================] - 1s 3ms/step - loss: 1.2654 - mse: 1.2654 - val_loss: 1.3051 - val_mse: 1.3051\n",
            "Epoch 9/30\n",
            "310/310 [==============================] - 1s 3ms/step - loss: 1.2537 - mse: 1.2537 - val_loss: 1.2910 - val_mse: 1.2910\n",
            "Epoch 10/30\n",
            "310/310 [==============================] - 1s 3ms/step - loss: 1.2417 - mse: 1.2417 - val_loss: 1.2767 - val_mse: 1.2767\n",
            "Epoch 11/30\n",
            "310/310 [==============================] - 1s 3ms/step - loss: 1.2271 - mse: 1.2271 - val_loss: 1.2616 - val_mse: 1.2616\n",
            "Epoch 12/30\n",
            "310/310 [==============================] - 1s 3ms/step - loss: 1.2146 - mse: 1.2146 - val_loss: 1.2471 - val_mse: 1.2471\n",
            "Epoch 13/30\n",
            "310/310 [==============================] - 1s 3ms/step - loss: 1.1995 - mse: 1.1995 - val_loss: 1.2351 - val_mse: 1.2351\n",
            "Epoch 14/30\n",
            "310/310 [==============================] - 1s 3ms/step - loss: 1.1814 - mse: 1.1814 - val_loss: 1.2128 - val_mse: 1.2128\n",
            "Epoch 15/30\n",
            "310/310 [==============================] - 1s 4ms/step - loss: 1.1634 - mse: 1.1634 - val_loss: 1.1922 - val_mse: 1.1922\n",
            "Epoch 16/30\n",
            "310/310 [==============================] - 2s 5ms/step - loss: 1.1452 - mse: 1.1452 - val_loss: 1.1826 - val_mse: 1.1826\n",
            "Epoch 17/30\n",
            "310/310 [==============================] - 1s 4ms/step - loss: 1.1286 - mse: 1.1286 - val_loss: 1.1530 - val_mse: 1.1530\n",
            "Epoch 18/30\n",
            "310/310 [==============================] - 1s 3ms/step - loss: 1.1101 - mse: 1.1101 - val_loss: 1.1364 - val_mse: 1.1364\n",
            "Epoch 19/30\n",
            "310/310 [==============================] - 1s 3ms/step - loss: 1.0914 - mse: 1.0914 - val_loss: 1.1182 - val_mse: 1.1182\n",
            "Epoch 20/30\n",
            "310/310 [==============================] - 1s 4ms/step - loss: 1.0763 - mse: 1.0763 - val_loss: 1.0996 - val_mse: 1.0996\n",
            "Epoch 21/30\n",
            "310/310 [==============================] - 1s 3ms/step - loss: 1.0589 - mse: 1.0589 - val_loss: 1.0830 - val_mse: 1.0830\n",
            "Epoch 22/30\n",
            "310/310 [==============================] - 1s 4ms/step - loss: 1.0436 - mse: 1.0436 - val_loss: 1.0955 - val_mse: 1.0955\n",
            "Epoch 23/30\n",
            "310/310 [==============================] - 1s 3ms/step - loss: 1.0299 - mse: 1.0299 - val_loss: 1.0591 - val_mse: 1.0591\n",
            "Epoch 24/30\n",
            "310/310 [==============================] - 1s 4ms/step - loss: 1.0146 - mse: 1.0146 - val_loss: 1.0304 - val_mse: 1.0304\n",
            "Epoch 25/30\n",
            "310/310 [==============================] - 1s 3ms/step - loss: 0.9978 - mse: 0.9978 - val_loss: 1.0292 - val_mse: 1.0292\n",
            "Epoch 26/30\n",
            "310/310 [==============================] - 1s 4ms/step - loss: 0.9876 - mse: 0.9876 - val_loss: 1.0038 - val_mse: 1.0038\n",
            "Epoch 27/30\n",
            "310/310 [==============================] - 2s 5ms/step - loss: 0.9730 - mse: 0.9730 - val_loss: 0.9912 - val_mse: 0.9912\n",
            "Epoch 28/30\n",
            "310/310 [==============================] - 1s 3ms/step - loss: 0.9587 - mse: 0.9587 - val_loss: 0.9746 - val_mse: 0.9746\n",
            "Epoch 29/30\n",
            "310/310 [==============================] - 1s 3ms/step - loss: 0.9461 - mse: 0.9461 - val_loss: 0.9694 - val_mse: 0.9694\n",
            "Epoch 30/30\n",
            "310/310 [==============================] - 1s 3ms/step - loss: 0.9368 - mse: 0.9368 - val_loss: 0.9539 - val_mse: 0.9539\n"
          ]
        }
      ]
    },
    {
      "cell_type": "code",
      "source": [
        "model.summary()"
      ],
      "metadata": {
        "colab": {
          "base_uri": "https://localhost:8080/"
        },
        "id": "qSfOm03Cl9LT",
        "outputId": "8cd49fb4-0774-451d-b5ba-6fdc59908e53"
      },
      "execution_count": 12,
      "outputs": [
        {
          "output_type": "stream",
          "name": "stdout",
          "text": [
            "Model: \"model\"\n",
            "__________________________________________________________________________________________________\n",
            " Layer (type)                   Output Shape         Param #     Connected to                     \n",
            "==================================================================================================\n",
            " input_1 (InputLayer)           [(None, 8)]          0           []                               \n",
            "                                                                                                  \n",
            " dense (Dense)                  (None, 30)           270         ['input_1[0][0]']                \n",
            "                                                                                                  \n",
            " concatenate (Concatenate)      (None, 38)           0           ['input_1[0][0]',                \n",
            "                                                                  'dense[0][0]']                  \n",
            "                                                                                                  \n",
            " dense_2 (Dense)                (None, 1)            39          ['concatenate[0][0]']            \n",
            "                                                                                                  \n",
            "==================================================================================================\n",
            "Total params: 309\n",
            "Trainable params: 309\n",
            "Non-trainable params: 0\n",
            "__________________________________________________________________________________________________\n"
          ]
        }
      ]
    },
    {
      "cell_type": "code",
      "source": [
        "test_loss = model.evaluate(X_test, y_test)\n",
        "test_loss"
      ],
      "metadata": {
        "colab": {
          "base_uri": "https://localhost:8080/"
        },
        "id": "_s-3NxqPl9PO",
        "outputId": "cd74bb63-c95b-44cc-96db-b69293c694fd"
      },
      "execution_count": 13,
      "outputs": [
        {
          "output_type": "stream",
          "name": "stdout",
          "text": [
            "162/162 [==============================] - 0s 2ms/step - loss: 0.9499 - mse: 0.9499\n"
          ]
        },
        {
          "output_type": "execute_result",
          "data": {
            "text/plain": [
              "[0.9499022364616394, 0.9499022364616394]"
            ]
          },
          "metadata": {},
          "execution_count": 13
        }
      ]
    },
    {
      "cell_type": "code",
      "source": [
        "y_pred = model.predict(X_test[:5])\n",
        "y_pred.round(2)"
      ],
      "metadata": {
        "colab": {
          "base_uri": "https://localhost:8080/"
        },
        "id": "1K6W188xl9Qw",
        "outputId": "45987ce4-7408-4a5e-8e59-004be1133521"
      },
      "execution_count": 16,
      "outputs": [
        {
          "output_type": "stream",
          "name": "stdout",
          "text": [
            "1/1 [==============================] - 0s 21ms/step\n"
          ]
        },
        {
          "output_type": "execute_result",
          "data": {
            "text/plain": [
              "array([[1.98],\n",
              "       [2.18],\n",
              "       [1.93],\n",
              "       [1.98],\n",
              "       [2.  ]], dtype=float32)"
            ]
          },
          "metadata": {},
          "execution_count": 16
        }
      ]
    },
    {
      "cell_type": "code",
      "source": [
        "y_test[:5]"
      ],
      "metadata": {
        "colab": {
          "base_uri": "https://localhost:8080/"
        },
        "id": "mseyqHKHp5Ws",
        "outputId": "826408ef-b1d3-4d9a-b9c1-f50122b34529"
      },
      "execution_count": 15,
      "outputs": [
        {
          "output_type": "execute_result",
          "data": {
            "text/plain": [
              "array([1.633, 3.667, 0.935, 0.831, 1.408])"
            ]
          },
          "metadata": {},
          "execution_count": 15
        }
      ]
    },
    {
      "cell_type": "code",
      "source": [
        "plt.plot(history.history['loss'], label='Training Loss')\n",
        "plt.plot(history.history['val_loss'], label='Validation Loss')\n",
        "plt.grid()\n",
        "plt.legend(loc='best')\n",
        "plt.show()"
      ],
      "metadata": {
        "colab": {
          "base_uri": "https://localhost:8080/",
          "height": 430
        },
        "id": "oatmPmUOp5YU",
        "outputId": "cfe3b118-3b7a-42b1-ad2c-32e0a8f5d0a5"
      },
      "execution_count": 17,
      "outputs": [
        {
          "output_type": "display_data",
          "data": {
            "text/plain": [
              "<Figure size 640x480 with 1 Axes>"
            ],
            "image/png": "[encoded data removed]"
          },
          "metadata": {}
        }
      ]
    },
    {
      "cell_type": "code",
      "source": [],
      "metadata": {
        "id": "41qbc5UWp5cl"
      },
      "execution_count": null,
      "outputs": []
    }
  ]
}
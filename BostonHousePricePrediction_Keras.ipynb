{
  "nbformat": 4,
  "nbformat_minor": 0,
  "metadata": {
    "colab": {
      "provenance": [],
      "gpuType": "T4"
    },
    "kernelspec": {
      "name": "python3",
      "display_name": "Python 3"
    },
    "language_info": {
      "name": "python"
    },
    "accelerator": "GPU"
  },
  "cells": [
    {
      "cell_type": "code",
      "execution_count": 1,
      "metadata": {
        "id": "XBcOmQ9AhY5-"
      },
      "outputs": [],
      "source": [
        "from tensorflow.keras.datasets import boston_housing\n",
        "from tensorflow.keras.layers import Dense\n",
        "from tensorflow.keras.models import Sequential"
      ]
    },
    {
      "cell_type": "code",
      "source": [
        "import matplotlib.pyplot as plt\n",
        "import numpy as np"
      ],
      "metadata": {
        "id": "D6aZh59qkHwq"
      },
      "execution_count": 2,
      "outputs": []
    },
    {
      "cell_type": "code",
      "source": [
        "(X_train, y_train), (X_test, y_test) = boston_housing.load_data()\n",
        "\n",
        "X_train.shape, y_train.shape, X_test.shape, y_test.shape"
      ],
      "metadata": {
        "colab": {
          "base_uri": "https://localhost:8080/"
        },
        "id": "5OyKCyKukHz7",
        "outputId": "84555d6a-fc0e-4c59-ad0d-00411ac5e7ed"
      },
      "execution_count": 3,
      "outputs": [
        {
          "output_type": "execute_result",
          "data": {
            "text/plain": [
              "((404, 13), (404,), (102, 13), (102,))"
            ]
          },
          "metadata": {},
          "execution_count": 3
        }
      ]
    },
    {
      "cell_type": "code",
      "source": [
        "model = Sequential()\n",
        "model.add(Dense(30, activation='relu', input_shape=X_train.shape[1:]))\n",
        "model.add(Dense(1))\n",
        "\n",
        "model.compile(optimizer='adam', loss='mean_squared_error', metrics=['mean_squared_error'])"
      ],
      "metadata": {
        "id": "YmMKSpeekH48"
      },
      "execution_count": 4,
      "outputs": []
    },
    {
      "cell_type": "code",
      "source": [
        "history =  model.fit(X_train, y_train,\n",
        "                     validation_split=0.2,\n",
        "                     epochs=20, batch_size=50, verbose=1)"
      ],
      "metadata": {
        "colab": {
          "base_uri": "https://localhost:8080/"
        },
        "id": "IleTgxI-kH6m",
        "outputId": "91e7ec03-1e1e-4903-f942-e772b3d13c04"
      },
      "execution_count": 5,
      "outputs": [
        {
          "output_type": "stream",
          "name": "stdout",
          "text": [
            "Epoch 1/20\n",
            "7/7 [==============================] - 1s 27ms/step - loss: 9706.7324 - mean_squared_error: 9706.7324 - val_loss: 7423.1211 - val_mean_squared_error: 7423.1211\n",
            "Epoch 2/20\n",
            "7/7 [==============================] - 0s 5ms/step - loss: 6082.2700 - mean_squared_error: 6082.2700 - val_loss: 4325.6011 - val_mean_squared_error: 4325.6011\n",
            "Epoch 3/20\n",
            "7/7 [==============================] - 0s 6ms/step - loss: 3357.7168 - mean_squared_error: 3357.7168 - val_loss: 2227.8833 - val_mean_squared_error: 2227.8833\n",
            "Epoch 4/20\n",
            "7/7 [==============================] - 0s 5ms/step - loss: 1601.0594 - mean_squared_error: 1601.0594 - val_loss: 952.4186 - val_mean_squared_error: 952.4186\n",
            "Epoch 5/20\n",
            "7/7 [==============================] - 0s 9ms/step - loss: 597.3925 - mean_squared_error: 597.3925 - val_loss: 322.6822 - val_mean_squared_error: 322.6822\n",
            "Epoch 6/20\n",
            "7/7 [==============================] - 0s 6ms/step - loss: 186.4142 - mean_squared_error: 186.4142 - val_loss: 107.1140 - val_mean_squared_error: 107.1140\n",
            "Epoch 7/20\n",
            "7/7 [==============================] - 0s 6ms/step - loss: 89.7964 - mean_squared_error: 89.7964 - val_loss: 83.7451 - val_mean_squared_error: 83.7451\n",
            "Epoch 8/20\n",
            "7/7 [==============================] - 0s 6ms/step - loss: 109.5677 - mean_squared_error: 109.5677 - val_loss: 95.8022 - val_mean_squared_error: 95.8022\n",
            "Epoch 9/20\n",
            "7/7 [==============================] - 0s 10ms/step - loss: 117.1598 - mean_squared_error: 117.1598 - val_loss: 90.4858 - val_mean_squared_error: 90.4858\n",
            "Epoch 10/20\n",
            "7/7 [==============================] - 0s 6ms/step - loss: 103.0577 - mean_squared_error: 103.0577 - val_loss: 80.7482 - val_mean_squared_error: 80.7482\n",
            "Epoch 11/20\n",
            "7/7 [==============================] - 0s 5ms/step - loss: 87.7964 - mean_squared_error: 87.7964 - val_loss: 78.8935 - val_mean_squared_error: 78.8935\n",
            "Epoch 12/20\n",
            "7/7 [==============================] - 0s 7ms/step - loss: 80.4039 - mean_squared_error: 80.4039 - val_loss: 81.4292 - val_mean_squared_error: 81.4292\n",
            "Epoch 13/20\n",
            "7/7 [==============================] - 0s 19ms/step - loss: 79.1196 - mean_squared_error: 79.1196 - val_loss: 83.5533 - val_mean_squared_error: 83.5533\n",
            "Epoch 14/20\n",
            "7/7 [==============================] - 0s 11ms/step - loss: 78.6417 - mean_squared_error: 78.6417 - val_loss: 83.2623 - val_mean_squared_error: 83.2623\n",
            "Epoch 15/20\n",
            "7/7 [==============================] - 0s 11ms/step - loss: 77.6946 - mean_squared_error: 77.6946 - val_loss: 82.0948 - val_mean_squared_error: 82.0948\n",
            "Epoch 16/20\n",
            "7/7 [==============================] - 0s 8ms/step - loss: 76.6181 - mean_squared_error: 76.6181 - val_loss: 80.4364 - val_mean_squared_error: 80.4364\n",
            "Epoch 17/20\n",
            "7/7 [==============================] - 0s 14ms/step - loss: 75.6586 - mean_squared_error: 75.6586 - val_loss: 79.3059 - val_mean_squared_error: 79.3059\n",
            "Epoch 18/20\n",
            "7/7 [==============================] - 0s 12ms/step - loss: 75.2597 - mean_squared_error: 75.2597 - val_loss: 78.1420 - val_mean_squared_error: 78.1420\n",
            "Epoch 19/20\n",
            "7/7 [==============================] - 0s 16ms/step - loss: 74.3498 - mean_squared_error: 74.3498 - val_loss: 78.2076 - val_mean_squared_error: 78.2076\n",
            "Epoch 20/20\n",
            "7/7 [==============================] - 0s 11ms/step - loss: 73.6693 - mean_squared_error: 73.6693 - val_loss: 78.7150 - val_mean_squared_error: 78.7150\n"
          ]
        }
      ]
    },
    {
      "cell_type": "code",
      "source": [
        "model.summary()"
      ],
      "metadata": {
        "colab": {
          "base_uri": "https://localhost:8080/"
        },
        "id": "8e7HxqLNkH9i",
        "outputId": "66c49e4b-9468-4d87-d729-cd4327050cac"
      },
      "execution_count": 6,
      "outputs": [
        {
          "output_type": "stream",
          "name": "stdout",
          "text": [
            "Model: \"sequential\"\n",
            "_________________________________________________________________\n",
            " Layer (type)                Output Shape              Param #   \n",
            "=================================================================\n",
            " dense (Dense)               (None, 30)                420       \n",
            "                                                                 \n",
            " dense_1 (Dense)             (None, 1)                 31        \n",
            "                                                                 \n",
            "=================================================================\n",
            "Total params: 451\n",
            "Trainable params: 451\n",
            "Non-trainable params: 0\n",
            "_________________________________________________________________\n"
          ]
        }
      ]
    },
    {
      "cell_type": "code",
      "source": [
        "mse_test = model.evaluate(X_test, y_test)\n",
        "mse_test"
      ],
      "metadata": {
        "colab": {
          "base_uri": "https://localhost:8080/"
        },
        "id": "4AudkGJ_kH_N",
        "outputId": "318f1091-40a8-43b9-fd3a-0af807226f45"
      },
      "execution_count": 7,
      "outputs": [
        {
          "output_type": "stream",
          "name": "stdout",
          "text": [
            "4/4 [==============================] - 0s 4ms/step - loss: 71.4992 - mean_squared_error: 71.4992\n"
          ]
        },
        {
          "output_type": "execute_result",
          "data": {
            "text/plain": [
              "[71.49916076660156, 71.49916076660156]"
            ]
          },
          "metadata": {},
          "execution_count": 7
        }
      ]
    },
    {
      "cell_type": "code",
      "source": [
        "X_new = X_test[:5]\n",
        "y_pred = model.predict(X_new)\n",
        "y_pred.round(2)"
      ],
      "metadata": {
        "colab": {
          "base_uri": "https://localhost:8080/"
        },
        "id": "nKyB0Sw0kIDW",
        "outputId": "b88c7b5a-f66f-442a-cc86-978bb88ec0ca"
      },
      "execution_count": 8,
      "outputs": [
        {
          "output_type": "stream",
          "name": "stdout",
          "text": [
            "1/1 [==============================] - 0s 154ms/step\n"
          ]
        },
        {
          "output_type": "execute_result",
          "data": {
            "text/plain": [
              "array([[13.  ],\n",
              "       [20.79],\n",
              "       [26.73],\n",
              "       [19.96],\n",
              "       [24.4 ]], dtype=float32)"
            ]
          },
          "metadata": {},
          "execution_count": 8
        }
      ]
    },
    {
      "cell_type": "code",
      "source": [
        "y_test[:5]"
      ],
      "metadata": {
        "colab": {
          "base_uri": "https://localhost:8080/"
        },
        "id": "U0BJgic_qqmN",
        "outputId": "e9e9b179-a416-49a5-97dd-72a37c0008b8"
      },
      "execution_count": 9,
      "outputs": [
        {
          "output_type": "execute_result",
          "data": {
            "text/plain": [
              "array([ 7.2, 18.8, 19. , 27. , 22.2])"
            ]
          },
          "metadata": {},
          "execution_count": 9
        }
      ]
    },
    {
      "cell_type": "code",
      "source": [
        "plt.plot(history.history['loss'], c='g', label='Training Loss')\n",
        "plt.plot(history.history['val_loss'], c='r', label='Validation Loss')\n",
        "plt.grid()\n",
        "plt.legend(loc='best')\n",
        "plt.show()"
      ],
      "metadata": {
        "colab": {
          "base_uri": "https://localhost:8080/",
          "height": 430
        },
        "id": "D7zzvEVVqqoK",
        "outputId": "b1b6298b-8fff-455e-ff64-b240eac20bf9"
      },
      "execution_count": 10,
      "outputs": [
        {
          "output_type": "display_data",
          "data": {
            "text/plain": [
              "<Figure size 640x480 with 1 Axes>"
            ],
            "image/png": "[encoded data removed]"
          },
          "metadata": {}
        }
      ]
    },
    {
      "cell_type": "code",
      "source": [],
      "metadata": {
        "id": "PQcLEVMUqq1L"
      },
      "execution_count": 10,
      "outputs": []
    }
  ]
}
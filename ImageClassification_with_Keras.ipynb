{
  "nbformat": 4,
  "nbformat_minor": 0,
  "metadata": {
    "colab": {
      "provenance": [],
      "gpuType": "T4"
    },
    "kernelspec": {
      "name": "python3",
      "display_name": "Python 3"
    },
    "language_info": {
      "name": "python"
    },
    "accelerator": "GPU"
  },
  "cells": [
    {
      "cell_type": "code",
      "execution_count": 1,
      "metadata": {
        "id": "8xLiqoZlx13H"
      },
      "outputs": [],
      "source": [
        "from tensorflow.keras.datasets import fashion_mnist\n",
        "from tensorflow.keras.layers import Dense\n",
        "from tensorflow.keras.layers import Flatten\n",
        "from tensorflow.keras.models import Sequential"
      ]
    },
    {
      "cell_type": "code",
      "source": [
        "from tensorflow.keras.losses import SparseCategoricalCrossentropy\n",
        "from tensorflow.keras.utils import normalize\n",
        "from tensorflow.keras.regularizers import L2\n",
        "from tensorflow import convert_to_tensor"
      ],
      "metadata": {
        "id": "5HbXFRPlzrkH"
      },
      "execution_count": 2,
      "outputs": []
    },
    {
      "cell_type": "code",
      "source": [
        "import numpy as np\n",
        "import matplotlib.pyplot as plt"
      ],
      "metadata": {
        "id": "KkTyFkHyzrlk"
      },
      "execution_count": 3,
      "outputs": []
    },
    {
      "cell_type": "code",
      "source": [
        "from sklearn.model_selection import train_test_split"
      ],
      "metadata": {
        "id": "AA1W85qr4vjR"
      },
      "execution_count": 4,
      "outputs": []
    },
    {
      "cell_type": "code",
      "source": [
        "(X_train, y_train), (X_test, y_test) = fashion_mnist.load_data()"
      ],
      "metadata": {
        "id": "TH3E2gf1zrpq"
      },
      "execution_count": 5,
      "outputs": []
    },
    {
      "cell_type": "code",
      "source": [
        "#You can get the list in keras documentation\n",
        "class_names = [\"T-shirt/Top\", \"Trouser\", \"Pullover\", \"Dress\", \"Coat\", \"Sandal\",\n",
        "               \"Shirt\", \"Snekaer\", \"Bag\", \"Ankle boot\"]"
      ],
      "metadata": {
        "id": "PHIfv0_yzrre"
      },
      "execution_count": 6,
      "outputs": []
    },
    {
      "cell_type": "code",
      "source": [
        "class_names[y_train[0]]"
      ],
      "metadata": {
        "colab": {
          "base_uri": "https://localhost:8080/",
          "height": 35
        },
        "id": "MmOiSxjFzrvI",
        "outputId": "99d3482e-e9f2-4ea0-ece6-067b6e7e034c"
      },
      "execution_count": 7,
      "outputs": [
        {
          "output_type": "execute_result",
          "data": {
            "text/plain": [
              "'Ankle boot'"
            ],
            "application/vnd.google.colaboratory.intrinsic+json": {
              "type": "string"
            }
          },
          "metadata": {},
          "execution_count": 7
        }
      ]
    },
    {
      "cell_type": "code",
      "source": [
        "plt.imshow(X_train[0])\n",
        "plt.show()"
      ],
      "metadata": {
        "id": "aS5h-YbNzrw0",
        "colab": {
          "base_uri": "https://localhost:8080/",
          "height": 430
        },
        "outputId": "9b36a3a6-63ac-4f86-8354-fe09d60579c3"
      },
      "execution_count": 8,
      "outputs": [
        {
          "output_type": "display_data",
          "data": {
            "text/plain": [
              "<Figure size 640x480 with 1 Axes>"
            ],
            "image/png": "[encoded data removed]"
          },
          "metadata": {}
        }
      ]
    },
    {
      "cell_type": "code",
      "source": [
        "X_train.shape, y_train.shape, X_test.shape, y_test.shape"
      ],
      "metadata": {
        "colab": {
          "base_uri": "https://localhost:8080/"
        },
        "id": "KksX6CJS4ScT",
        "outputId": "34a1bcfc-df77-433a-c483-836331b4b0da"
      },
      "execution_count": 9,
      "outputs": [
        {
          "output_type": "execute_result",
          "data": {
            "text/plain": [
              "((60000, 28, 28), (60000,), (10000, 28, 28), (10000,))"
            ]
          },
          "metadata": {},
          "execution_count": 9
        }
      ]
    },
    {
      "cell_type": "code",
      "source": [
        "X_train = normalize(X_train, axis=1)\n",
        "X_test = normalize(X_test, axis=1)"
      ],
      "metadata": {
        "id": "SCRAlul07Wz9"
      },
      "execution_count": 10,
      "outputs": []
    },
    {
      "cell_type": "code",
      "source": [
        "X_train, X_val, y_train, y_val = train_test_split(X_train, y_train, test_size=0.2)\n",
        "\n",
        "X_train.shape, y_train.shape, X_val.shape, y_val.shape"
      ],
      "metadata": {
        "colab": {
          "base_uri": "https://localhost:8080/"
        },
        "id": "qQ0dEwlK6yHg",
        "outputId": "331f58cb-3c15-41e9-9bb1-723c2df0e0f5"
      },
      "execution_count": 11,
      "outputs": [
        {
          "output_type": "execute_result",
          "data": {
            "text/plain": [
              "((48000, 28, 28), (48000,), (12000, 28, 28), (12000,))"
            ]
          },
          "metadata": {},
          "execution_count": 11
        }
      ]
    },
    {
      "cell_type": "code",
      "source": [
        "model = Sequential()\n",
        "\n",
        "l2 = L2(l2=0.02)\n",
        "model.add(Flatten())\n",
        "model.add(Dense(512, activation='relu', kernel_regularizer=l2))\n",
        "model.add(Dense(256, activation='relu', kernel_regularizer=l2))\n",
        "model.add(Dense(128, activation='tanh', kernel_regularizer=l2))\n",
        "model.add(Dense(80, activation='relu', kernel_regularizer=l2))\n",
        "model.add(Dense(10, activation='softmax'))"
      ],
      "metadata": {
        "id": "TKoE9d9Q3GFC"
      },
      "execution_count": 12,
      "outputs": []
    },
    {
      "cell_type": "code",
      "source": [
        "model.compile(optimizer='adam', loss='sparse_categorical_crossentropy', metrics=['accuracy'])"
      ],
      "metadata": {
        "id": "07jFGbIn3G5A"
      },
      "execution_count": 13,
      "outputs": []
    },
    {
      "cell_type": "code",
      "source": [
        "X_train = convert_to_tensor(X_train)\n",
        "\n",
        "history = model.fit(X_train, y_train,\n",
        "                    validation_data=(X_val, y_val),\n",
        "                    epochs=30, batch_size=150, verbose=1)"
      ],
      "metadata": {
        "colab": {
          "base_uri": "https://localhost:8080/"
        },
        "id": "j-tAdueL3HHC",
        "outputId": "6e348abf-7ddb-4564-9b24-c72033b7c15a"
      },
      "execution_count": 14,
      "outputs": [
        {
          "output_type": "stream",
          "name": "stdout",
          "text": [
            "Epoch 1/30\n",
            "320/320 [==============================] - 17s 46ms/step - loss: 3.6009 - accuracy: 0.6902 - val_loss: 1.3101 - val_accuracy: 0.7287\n",
            "Epoch 2/30\n",
            "320/320 [==============================] - 7s 22ms/step - loss: 1.2027 - accuracy: 0.7580 - val_loss: 1.1293 - val_accuracy: 0.7707\n",
            "Epoch 3/30\n",
            "320/320 [==============================] - 8s 24ms/step - loss: 1.1038 - accuracy: 0.7730 - val_loss: 1.0429 - val_accuracy: 0.7892\n",
            "Epoch 4/30\n",
            "320/320 [==============================] - 6s 19ms/step - loss: 1.0448 - accuracy: 0.7819 - val_loss: 0.9885 - val_accuracy: 0.8038\n",
            "Epoch 5/30\n",
            "320/320 [==============================] - 8s 24ms/step - loss: 1.0101 - accuracy: 0.7855 - val_loss: 0.9515 - val_accuracy: 0.8075\n",
            "Epoch 6/30\n",
            "320/320 [==============================] - 6s 19ms/step - loss: 0.9757 - accuracy: 0.7944 - val_loss: 0.9403 - val_accuracy: 0.8084\n",
            "Epoch 7/30\n",
            "320/320 [==============================] - 8s 25ms/step - loss: 0.9528 - accuracy: 0.7954 - val_loss: 0.9264 - val_accuracy: 0.8072\n",
            "Epoch 8/30\n",
            "320/320 [==============================] - 6s 19ms/step - loss: 0.9430 - accuracy: 0.7959 - val_loss: 0.9089 - val_accuracy: 0.8077\n",
            "Epoch 9/30\n",
            "320/320 [==============================] - 8s 25ms/step - loss: 0.9179 - accuracy: 0.8023 - val_loss: 0.8900 - val_accuracy: 0.8072\n",
            "Epoch 10/30\n",
            "320/320 [==============================] - 6s 19ms/step - loss: 0.9062 - accuracy: 0.8025 - val_loss: 0.8675 - val_accuracy: 0.8188\n",
            "Epoch 11/30\n",
            "320/320 [==============================] - 8s 24ms/step - loss: 0.9033 - accuracy: 0.8008 - val_loss: 0.9083 - val_accuracy: 0.7953\n",
            "Epoch 12/30\n",
            "320/320 [==============================] - 6s 19ms/step - loss: 0.8817 - accuracy: 0.8072 - val_loss: 0.8538 - val_accuracy: 0.8164\n",
            "Epoch 13/30\n",
            "320/320 [==============================] - 8s 25ms/step - loss: 0.8743 - accuracy: 0.8080 - val_loss: 0.8556 - val_accuracy: 0.8172\n",
            "Epoch 14/30\n",
            "320/320 [==============================] - 9s 28ms/step - loss: 0.8686 - accuracy: 0.8060 - val_loss: 0.8496 - val_accuracy: 0.8145\n",
            "Epoch 15/30\n",
            "320/320 [==============================] - 7s 23ms/step - loss: 0.8595 - accuracy: 0.8096 - val_loss: 0.8609 - val_accuracy: 0.8032\n",
            "Epoch 16/30\n",
            "320/320 [==============================] - 6s 20ms/step - loss: 0.8540 - accuracy: 0.8096 - val_loss: 0.8311 - val_accuracy: 0.8167\n",
            "Epoch 17/30\n",
            "320/320 [==============================] - 9s 27ms/step - loss: 0.8416 - accuracy: 0.8124 - val_loss: 0.8483 - val_accuracy: 0.8050\n",
            "Epoch 18/30\n",
            "320/320 [==============================] - 7s 22ms/step - loss: 0.8395 - accuracy: 0.8105 - val_loss: 0.8263 - val_accuracy: 0.8151\n",
            "Epoch 19/30\n",
            "320/320 [==============================] - 7s 21ms/step - loss: 0.8335 - accuracy: 0.8134 - val_loss: 0.8279 - val_accuracy: 0.8178\n",
            "Epoch 20/30\n",
            "320/320 [==============================] - 7s 23ms/step - loss: 0.8252 - accuracy: 0.8155 - val_loss: 0.8163 - val_accuracy: 0.8176\n",
            "Epoch 21/30\n",
            "320/320 [==============================] - 8s 26ms/step - loss: 0.8202 - accuracy: 0.8150 - val_loss: 0.8143 - val_accuracy: 0.8155\n",
            "Epoch 22/30\n",
            "320/320 [==============================] - 8s 24ms/step - loss: 0.8168 - accuracy: 0.8164 - val_loss: 0.8042 - val_accuracy: 0.8179\n",
            "Epoch 23/30\n",
            "320/320 [==============================] - 6s 19ms/step - loss: 0.8124 - accuracy: 0.8151 - val_loss: 0.7895 - val_accuracy: 0.8216\n",
            "Epoch 24/30\n",
            "320/320 [==============================] - 8s 24ms/step - loss: 0.8125 - accuracy: 0.8129 - val_loss: 0.7956 - val_accuracy: 0.8226\n",
            "Epoch 25/30\n",
            "320/320 [==============================] - 6s 19ms/step - loss: 0.8008 - accuracy: 0.8193 - val_loss: 0.7932 - val_accuracy: 0.8217\n",
            "Epoch 26/30\n",
            "320/320 [==============================] - 8s 25ms/step - loss: 0.7949 - accuracy: 0.8199 - val_loss: 0.7872 - val_accuracy: 0.8195\n",
            "Epoch 27/30\n",
            "320/320 [==============================] - 6s 20ms/step - loss: 0.7914 - accuracy: 0.8217 - val_loss: 0.7667 - val_accuracy: 0.8315\n",
            "Epoch 28/30\n",
            "320/320 [==============================] - 8s 27ms/step - loss: 0.7910 - accuracy: 0.8202 - val_loss: 0.8107 - val_accuracy: 0.8083\n",
            "Epoch 29/30\n",
            "320/320 [==============================] - 6s 20ms/step - loss: 0.7857 - accuracy: 0.8215 - val_loss: 0.7682 - val_accuracy: 0.8302\n",
            "Epoch 30/30\n",
            "320/320 [==============================] - 8s 25ms/step - loss: 0.7833 - accuracy: 0.8219 - val_loss: 0.7687 - val_accuracy: 0.8253\n"
          ]
        }
      ]
    },
    {
      "cell_type": "code",
      "source": [
        "model.summary()"
      ],
      "metadata": {
        "colab": {
          "base_uri": "https://localhost:8080/"
        },
        "id": "SbYYP_1Q3HWb",
        "outputId": "71761a8b-9929-4de5-f2e2-b1046942cd82"
      },
      "execution_count": 15,
      "outputs": [
        {
          "output_type": "stream",
          "name": "stdout",
          "text": [
            "Model: \"sequential\"\n",
            "_________________________________________________________________\n",
            " Layer (type)                Output Shape              Param #   \n",
            "=================================================================\n",
            " flatten (Flatten)           (150, 784)                0         \n",
            "                                                                 \n",
            " dense (Dense)               (150, 512)                401920    \n",
            "                                                                 \n",
            " dense_1 (Dense)             (150, 256)                131328    \n",
            "                                                                 \n",
            " dense_2 (Dense)             (150, 128)                32896     \n",
            "                                                                 \n",
            " dense_3 (Dense)             (150, 80)                 10320     \n",
            "                                                                 \n",
            " dense_4 (Dense)             (150, 10)                 810       \n",
            "                                                                 \n",
            "=================================================================\n",
            "Total params: 577,274\n",
            "Trainable params: 577,274\n",
            "Non-trainable params: 0\n",
            "_________________________________________________________________\n"
          ]
        }
      ]
    },
    {
      "cell_type": "code",
      "source": [
        "test_loss, test_accuracy = model.evaluate(X_test, y_test)\n",
        "print(test_loss, test_accuracy)"
      ],
      "metadata": {
        "colab": {
          "base_uri": "https://localhost:8080/"
        },
        "id": "ohsA7oBaAsn4",
        "outputId": "2a3fbba8-b75d-435c-922c-0174f0cbcd8e"
      },
      "execution_count": 16,
      "outputs": [
        {
          "output_type": "stream",
          "name": "stdout",
          "text": [
            "313/313 [==============================] - 2s 4ms/step - loss: 0.8023 - accuracy: 0.8148\n",
            "0.8022924661636353 0.8148000240325928\n"
          ]
        }
      ]
    },
    {
      "cell_type": "code",
      "source": [
        "X_new = X_test[:5]\n",
        "y_proba = model.predict(X_new)"
      ],
      "metadata": {
        "colab": {
          "base_uri": "https://localhost:8080/"
        },
        "id": "6NrIsQgGAspg",
        "outputId": "b7316260-697d-4707-e8de-a234ac5dff62"
      },
      "execution_count": 17,
      "outputs": [
        {
          "output_type": "stream",
          "name": "stdout",
          "text": [
            "1/1 [==============================] - 0s 113ms/step\n"
          ]
        }
      ]
    },
    {
      "cell_type": "code",
      "source": [
        "y_pred = np.argmax(y_proba, axis=1)\n",
        "y_pred"
      ],
      "metadata": {
        "colab": {
          "base_uri": "https://localhost:8080/"
        },
        "id": "vLqqoCb8As3U",
        "outputId": "5d292b34-2d55-40a1-ff38-f47f11b67d50"
      },
      "execution_count": 18,
      "outputs": [
        {
          "output_type": "execute_result",
          "data": {
            "text/plain": [
              "array([9, 2, 1, 1, 6])"
            ]
          },
          "metadata": {},
          "execution_count": 18
        }
      ]
    },
    {
      "cell_type": "code",
      "source": [
        "for i in y_pred:\n",
        "  print(class_names[i], end=' ')"
      ],
      "metadata": {
        "colab": {
          "base_uri": "https://localhost:8080/"
        },
        "id": "1y1CtAXXElAb",
        "outputId": "4eaabf17-49bd-4db7-a5a1-ecf2f1fe6d9d"
      },
      "execution_count": 19,
      "outputs": [
        {
          "output_type": "stream",
          "name": "stdout",
          "text": [
            "Ankle boot Pullover Trouser Trouser Shirt "
          ]
        }
      ]
    },
    {
      "cell_type": "code",
      "source": [
        "y = [class_names[y] for y in y_test[:5]]\n",
        "print(*y)"
      ],
      "metadata": {
        "colab": {
          "base_uri": "https://localhost:8080/"
        },
        "id": "zp847nh4As49",
        "outputId": "06bbbb5c-afd1-4d7c-bc03-cc607cd1aa46"
      },
      "execution_count": 20,
      "outputs": [
        {
          "output_type": "stream",
          "name": "stdout",
          "text": [
            "Ankle boot Pullover Trouser Trouser Shirt\n"
          ]
        }
      ]
    },
    {
      "cell_type": "code",
      "source": [
        "plt.plot(history.history['loss'], c='b', label='Training Loss')\n",
        "plt.plot(history.history['val_loss'], c='r', label='Validation Loss')\n",
        "plt.grid(True)\n",
        "plt.legend(loc='best')\n",
        "plt.show()"
      ],
      "metadata": {
        "colab": {
          "base_uri": "https://localhost:8080/",
          "height": 430
        },
        "id": "T9tcGDVCAs84",
        "outputId": "b3e9eea6-e04b-4794-c0fb-482b345b09c8"
      },
      "execution_count": 21,
      "outputs": [
        {
          "output_type": "display_data",
          "data": {
            "text/plain": [
              "<Figure size 640x480 with 1 Axes>"
            ],
            "image/png": "[encoded data removed]"
          },
          "metadata": {}
        }
      ]
    },
    {
      "cell_type": "code",
      "source": [
        "plt.plot(history.history['accuracy'], c='b', label='Training Accuracy')\n",
        "plt.plot(history.history['val_accuracy'], c='r', label='Validation Accuracy')\n",
        "plt.grid(True)\n",
        "plt.legend(loc='best')\n",
        "plt.show()"
      ],
      "metadata": {
        "colab": {
          "base_uri": "https://localhost:8080/",
          "height": 430
        },
        "id": "fataxlN-As-W",
        "outputId": "b7e204f7-4c7f-41ba-cb68-589c6b207d35"
      },
      "execution_count": 22,
      "outputs": [
        {
          "output_type": "display_data",
          "data": {
            "text/plain": [
              "<Figure size 640x480 with 1 Axes>"
            ],
            "image/png": "[encoded data removed]"
          },
          "metadata": {}
        }
      ]
    }
  ]
}